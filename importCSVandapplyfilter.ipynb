{
 "cells": [
  {
   "cell_type": "markdown",
   "metadata": {},
   "source": [
    "# import csv file apply filter then export with timestamp"
   ]
  },
  {
   "cell_type": "code",
   "execution_count": 90,
   "metadata": {},
   "outputs": [],
   "source": [
    "import pandas\n",
    "pandas.set_option('expand_frame_repr', False)\n",
    "import datetime"
   ]
  },
  {
   "cell_type": "markdown",
   "metadata": {},
   "source": [
    "# Add file name and path"
   ]
  },
  {
   "cell_type": "code",
   "execution_count": 139,
   "metadata": {},
   "outputs": [
    {
     "name": "stdout",
     "output_type": "stream",
     "text": [
      "  Post Code      City      Town  Address 3        Address 2 Address 1 House Number  House Name Unit Number  Unknown 1  Unnamed: 10     Business Name\n",
      "0   CF3 0AA  CAERDYDD  Llaneirwg       NaN   Ferntree Drive       NaN             1        NaN         NaN        NaN          NaN               NaN\n",
      "1  CF10 5BT  CAERDYDD        NaN       NaN  Sgwar Callaghan       NaN             3        NaN         NaN        NaN          NaN  Zurich Insurance\n",
      "2  CF10 5WA  CAERDYDD        NaN       NaN              NaN       NaN                      NaN         NaN      446.0          NaN  Zurich Insurance\n",
      "3  CF10 5WB  CAERDYDD        NaN       NaN              NaN       NaN                      NaN         NaN      448.0          NaN  Zurich Insurance\n",
      "4  CF10 5WD  CAERDYDD        NaN       NaN              NaN       NaN                      NaN         NaN      456.0          NaN  Zurich Insurance\n"
     ]
    }
   ],
   "source": [
    "sourcepath = 'C:\\\\Users\\\\aluth\\\\Downloads\\\\'\n",
    "filename = '200617144947_PPH-BUY-addressdatabase-JUN20'\n",
    "destinationpath = 'C:\\\\Users\\\\aluth\\\\Downloads\\\\'\n",
    "filetype = '.csv'\n",
    "today =  str(datetime.datetime.today()).replace(':','-') ##get todays date and time \n",
    "timestamp = today[0:19] ##extract the part of datetime\n",
    "\n",
    "##df = pandas.read_csv('C:\\\\Users\\\\aluth\\\\Downloads\\\\200617144947_PPH-BUY-addressdatabase-JUN20.csv')\n",
    "sourcedata = pandas.read_csv(sourcepath + filename + filetype)\n",
    "print(sourcedata.head())\n",
    "##print(df.head())"
   ]
  },
  {
   "cell_type": "markdown",
   "metadata": {},
   "source": [
    "# create filter"
   ]
  },
  {
   "cell_type": "code",
   "execution_count": 74,
   "metadata": {},
   "outputs": [
    {
     "name": "stdout",
     "output_type": "stream",
     "text": [
      "0     True\n",
      "1     True\n",
      "2    False\n",
      "3    False\n",
      "4    False\n",
      "Name: Post Code, dtype: bool\n"
     ]
    }
   ],
   "source": [
    "postcode_filter = ['CF3 0AA','CF10 5BT'] ## create list to filter the results\n",
    "##filtered = (df[\"Post Code\"] == \"CF3 0AA\")\n",
    "filtered = sourcedata[\"Post Code\"].isin(postcode_filter)\n",
    "print (filtered.head())"
   ]
  },
  {
   "cell_type": "code",
   "execution_count": 75,
   "metadata": {},
   "outputs": [
    {
     "name": "stdout",
     "output_type": "stream",
     "text": [
      "(3341,)\n"
     ]
    }
   ],
   "source": [
    "df_filtered = sourcedata[filtered]\n",
    "print (filtered.shape)"
   ]
  },
  {
   "cell_type": "code",
   "execution_count": 76,
   "metadata": {},
   "outputs": [
    {
     "name": "stdout",
     "output_type": "stream",
     "text": [
      "   Post Code      City      Town  Address 3        Address 2 Address 1 House Number  House Name Unit Number  Unknown 1  Unnamed: 10     Business Name\n",
      "0    CF3 0AA  CAERDYDD  Llaneirwg       NaN   Ferntree Drive       NaN             1        NaN         NaN        NaN          NaN               NaN\n",
      "1   CF10 5BT  CAERDYDD        NaN       NaN  Sgwar Callaghan       NaN             3        NaN         NaN        NaN          NaN  Zurich Insurance\n",
      "12   CF3 0AA  CAERDYDD  Llaneirwg       NaN   Ferntree Drive       NaN            10        NaN         NaN        NaN          NaN               NaN\n",
      "13   CF3 0AA  CAERDYDD  Llaneirwg       NaN   Ferntree Drive       NaN            11        NaN         NaN        NaN          NaN               NaN\n",
      "14   CF3 0AA  CAERDYDD  Llaneirwg       NaN   Ferntree Drive       NaN            12        NaN         NaN        NaN          NaN               NaN\n"
     ]
    }
   ],
   "source": [
    "print (df_filtered.head())"
   ]
  },
  {
   "cell_type": "markdown",
   "metadata": {},
   "source": [
    "# Export the filtered dataset into CSV"
   ]
  },
  {
   "cell_type": "code",
   "execution_count": 140,
   "metadata": {},
   "outputs": [],
   "source": [
    "df_filtered.to_csv(destinationpath +'filtered_results_'+ timestamp + filetype)"
   ]
  },
  {
   "cell_type": "code",
   "execution_count": 128,
   "metadata": {},
   "outputs": [
    {
     "data": {
      "text/plain": [
       "'2020-06-23'"
      ]
     },
     "execution_count": 128,
     "metadata": {},
     "output_type": "execute_result"
    }
   ],
   "source": [
    "##date.datetime.today()\n",
    "str(datetime.date.today())"
   ]
  },
  {
   "cell_type": "code",
   "execution_count": 137,
   "metadata": {},
   "outputs": [],
   "source": [
    "timestamp = str(datetime.datetime.today()).replace(':','-')"
   ]
  },
  {
   "cell_type": "code",
   "execution_count": 138,
   "metadata": {},
   "outputs": [
    {
     "data": {
      "text/plain": [
       "'2020-06-23 14-57-27'"
      ]
     },
     "execution_count": 138,
     "metadata": {},
     "output_type": "execute_result"
    }
   ],
   "source": [
    "timestamp[0:19]"
   ]
  }
 ],
 "metadata": {
  "kernelspec": {
   "display_name": "Python 3.8.3 64-bit",
   "language": "python",
   "name": "python38364bitd845ad02132d4d04949afb4d6f3b0132"
  },
  "language_info": {
   "codemirror_mode": {
    "name": "ipython",
    "version": 3
   },
   "file_extension": ".py",
   "mimetype": "text/x-python",
   "name": "python",
   "nbconvert_exporter": "python",
   "pygments_lexer": "ipython3",
   "version": "3.8.3"
  }
 },
 "nbformat": 4,
 "nbformat_minor": 4
}
